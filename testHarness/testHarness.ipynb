{
 "cells": [
  {
   "cell_type": "markdown",
   "id": "86fb57bb",
   "metadata": {},
   "source": [
    "A test harness provides a way to evaluate multiple algoritms against differing datasets\n"
   ]
  },
  {
   "cell_type": "code",
   "execution_count": 2,
   "id": "9231e67b",
   "metadata": {},
   "outputs": [],
   "source": [
    "#Imports\n",
    "from numpy import array\n",
    "from sklearn.model_selection import KFold"
   ]
  },
  {
   "cell_type": "markdown",
   "id": "e8d05ae4",
   "metadata": {},
   "source": [
    "Input data\n"
   ]
  },
  {
   "cell_type": "markdown",
   "id": "140192da",
   "metadata": {},
   "source": [
    "Clean data\n"
   ]
  },
  {
   "cell_type": "markdown",
   "id": "0667718b",
   "metadata": {},
   "source": [
    "Import data\n"
   ]
  },
  {
   "cell_type": "markdown",
   "id": "3bd2feb0",
   "metadata": {},
   "source": [
    "K-Fold Validation"
   ]
  },
  {
   "cell_type": "code",
   "execution_count": 8,
   "id": "b36437c6",
   "metadata": {},
   "outputs": [],
   "source": [
    "data = array([1, 2, 3, 4, 5, 6])\n",
    "#prepare cross validation\n",
    "kfold = KFold(n_splits=3, random_state=1, shuffle=True)\n",
    "\n",
    "#alternatives: \n",
    "#kfold = KFold(n_splits=3, random_state=None, shuffle=False)\n",
    "#enumerate splits\n",
    "for train, test in kfold.split(data):\n",
    "    print('train: %s, test: %s' % (data[train], data[test]))\n"
   ]
  },
  {
   "cell_type": "markdown",
   "id": "6b3dc52e",
   "metadata": {},
   "source": [
    "Run Algorithm against K-Fold delinitated datasets"
   ]
  },
  {
   "cell_type": "code",
   "execution_count": 22,
   "id": "fd1f003b",
   "metadata": {},
   "outputs": [
    {
     "name": "stdout",
     "output_type": "stream",
     "text": [
      "train: [1 4 5 6], test: [2 3]\n",
      "train: [2 3 4 6], test: [1 5]\n",
      "train: [1 2 3 5], test: [4 6]\n"
     ]
    }
   ],
   "source": []
  }
 ],
 "metadata": {
  "kernelspec": {
   "display_name": "Python 3 (ipykernel)",
   "language": "python",
   "name": "python3"
  },
  "language_info": {
   "codemirror_mode": {
    "name": "ipython",
    "version": 3
   },
   "file_extension": ".py",
   "mimetype": "text/x-python",
   "name": "python",
   "nbconvert_exporter": "python",
   "pygments_lexer": "ipython3",
   "version": "3.8.10"
  }
 },
 "nbformat": 4,
 "nbformat_minor": 5
}
