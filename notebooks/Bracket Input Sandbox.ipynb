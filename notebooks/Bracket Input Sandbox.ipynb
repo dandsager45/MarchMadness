{
 "cells": [
  {
   "cell_type": "markdown",
   "id": "18ecfb8f",
   "metadata": {},
   "source": [
    "Sandbox for determining how I want to print a bracket -> inputs, etc\n"
   ]
  },
  {
   "cell_type": "markdown",
   "id": "1561e6f6",
   "metadata": {},
   "source": [
    "inputs: \n",
    "- Defined Seeded ordered Team List [TODO: Determine logical listing]\n",
    "    -UUIDs\n",
    "- (Opt)Matchup Matrix\n",
    "    -Format TBD\n",
    "- Title\n",
    "    \n",
    "generateBracket(TeamList, MatchupMatrix, \"Random Forest Test\" ) \n",
    "\n"
   ]
  },
  {
   "cell_type": "code",
   "execution_count": null,
   "id": "21dc4177",
   "metadata": {},
   "outputs": [],
   "source": [
    "Teamlist = [\"Alabama\", \"Houston\", \"Kansas\", \"Purdue\", \\ \n",
    "            \"UCLA\", \"Texas\", \"Arizona\",\"Marquette\", \\\n",
    "            \"Baylor\", \"Gonzaga\", \"Kansas St.\", \"Xavier\", \\\n",
    "            \"UConn\", \"Tennessee\", \"Indiana\", \"Virginia\", \\\n",
    "            \"San Diego St.\", \"Duke\", \"Saint Mary's\", \"Miami\", \\\n",
    "            \"lowa St.\", \"Creighton\", \"Kentucky\" \"TCU\", \\\n",
    "            \"Texas A&M\", \"Michigan St.\", \"Missouri\", \"Northwestern\", \\\n",
    "            \"Memphis\",\"Arkansas\", \"Maryland\", \"lowa\", \\\n",
    "            \"Fla. Atlantic\", \"West Virginia\", \"Auburn\", \"Illinois\", \\\n",
    "            \"Boise St.\", \"Penn St.\", \"Southern California\", \"Utah St.\"\n",
    "            \"NC State\", \"Providence\", \"Pittsburgh\", \"Arizona St.\", \\\n",
    "            \"Col. of Charleston\", \"Oral Roberts\", \"Drake\", \"VCU\", \\\n",
    "            \"Kent St.\",\"lona\",\"Furman\",\"Louisiana\" \\\n",
    "            \"Kennesaw St.\",\"UC Santa Barbara\",\"Grand Canyon\",\"Montana St.\" \\\n",
    "            \"Vermont\", \"Colgate\", \"Princeton\" \"UNC Asheville\", \\\n",
    "            \"Northern Ky.\", \"Howard\", \"A&M-Corpus Christi\", \"FDU\"\n"
   ]
  }
 ],
 "metadata": {
  "kernelspec": {
   "display_name": "Python 3 (ipykernel)",
   "language": "python",
   "name": "python3"
  },
  "language_info": {
   "codemirror_mode": {
    "name": "ipython",
    "version": 3
   },
   "file_extension": ".py",
   "mimetype": "text/x-python",
   "name": "python",
   "nbconvert_exporter": "python",
   "pygments_lexer": "ipython3",
   "version": "3.8.10"
  }
 },
 "nbformat": 4,
 "nbformat_minor": 5
}
