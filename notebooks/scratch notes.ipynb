{
 "cells": [
  {
   "cell_type": "code",
   "execution_count": 1,
   "id": "76fd3489",
   "metadata": {},
   "outputs": [],
   "source": [
    "import pandas as pd\n",
    "import numpy as np\n",
    "import matplotlib.pyplot as plt"
   ]
  },
  {
   "cell_type": "code",
   "execution_count": 3,
   "id": "3dcc8018",
   "metadata": {},
   "outputs": [],
   "source": [
    "folder = '/home/daniel/dev/marchMadness/data/12192024_BartTorvik/'\n",
    "team_metrics_df = pd.read_csv(folder+'120924_Torvik_Trank_Data_clean.csv')"
   ]
  },
  {
   "cell_type": "code",
   "execution_count": 4,
   "id": "0bac471d",
   "metadata": {},
   "outputs": [],
   "source": [
    "teams = team_metrics_df['Team']"
   ]
  },
  {
   "cell_type": "code",
   "execution_count": 5,
   "id": "de92d6a5",
   "metadata": {},
   "outputs": [],
   "source": [
    "import itertools\n",
    "\n",
    "# Generate all possible pairings (matchups) between teams\n",
    "matchups = list(itertools.combinations(teams, 2))"
   ]
  },
  {
   "cell_type": "code",
   "execution_count": 6,
   "id": "ef14cb7d",
   "metadata": {},
   "outputs": [
    {
     "name": "stdout",
     "output_type": "stream",
     "text": [
      "66066\n"
     ]
    }
   ],
   "source": [
    "print(len(matchups))"
   ]
  },
  {
   "cell_type": "code",
   "execution_count": 7,
   "id": "253ad0cd",
   "metadata": {},
   "outputs": [
    {
     "name": "stdout",
     "output_type": "stream",
     "text": [
      "66066\n"
     ]
    }
   ],
   "source": [
    "counter = 0\n",
    "\n",
    "for team1, team2 in matchups:\n",
    "    counter= counter + 1\n",
    "print(counter)"
   ]
  },
  {
   "cell_type": "code",
   "execution_count": null,
   "id": "f2263be2",
   "metadata": {},
   "outputs": [],
   "source": []
  },
  {
   "cell_type": "code",
   "execution_count": null,
   "id": "df496e51",
   "metadata": {},
   "outputs": [],
   "source": []
  },
  {
   "cell_type": "code",
   "execution_count": null,
   "id": "8045056c",
   "metadata": {},
   "outputs": [],
   "source": []
  },
  {
   "cell_type": "code",
   "execution_count": null,
   "id": "631a3b4f",
   "metadata": {},
   "outputs": [],
   "source": []
  }
 ],
 "metadata": {
  "kernelspec": {
   "display_name": "Python 3 (ipykernel)",
   "language": "python",
   "name": "python3"
  },
  "language_info": {
   "codemirror_mode": {
    "name": "ipython",
    "version": 3
   },
   "file_extension": ".py",
   "mimetype": "text/x-python",
   "name": "python",
   "nbconvert_exporter": "python",
   "pygments_lexer": "ipython3",
   "version": "3.8.10"
  }
 },
 "nbformat": 4,
 "nbformat_minor": 5
}
