{
 "cells": [
  {
   "cell_type": "code",
   "execution_count": null,
   "id": "6204d2cc",
   "metadata": {},
   "outputs": [],
   "source": [
    "#Importing the PIL Libary\n",
    "from PIL import Image\n",
    "from PIL import ImageDraw\n",
    "\n",
    "#Open an Image\n",
    "img = Image.open(\"/home/daniel/Pictures/blank_bracket.jpg\") #fill with path to image\n",
    "\n",
    "#Call draw method ot add 2D graphis in an image\n",
    "I1 = ImageDraw.Draw(img)\n",
    "\n",
    "#Add Text to an image\n",
    "I1.text(28,36), \"nice Car\", fill=(255, 0, 0)\n",
    "\n",
    "#Display edited image\n",
    "img.show()\n",
    "\n",
    "#Save the Edited Image\n",
    "img.save(\"/home/daniel/Pictures/brackets/testBracket.jpg\") #Path to saved file"
   ]
  }
 ],
 "metadata": {
  "kernelspec": {
   "display_name": "Python 3 (ipykernel)",
   "language": "python",
   "name": "python3"
  },
  "language_info": {
   "codemirror_mode": {
    "name": "ipython",
    "version": 3
   },
   "file_extension": ".py",
   "mimetype": "text/x-python",
   "name": "python",
   "nbconvert_exporter": "python",
   "pygments_lexer": "ipython3",
   "version": "3.8.10"
  }
 },
 "nbformat": 4,
 "nbformat_minor": 5
}
